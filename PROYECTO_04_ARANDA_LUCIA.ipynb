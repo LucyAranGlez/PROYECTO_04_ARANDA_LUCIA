{
  "nbformat": 4,
  "nbformat_minor": 0,
  "metadata": {
    "colab": {
      "name": "PROYECTO-04- ARANDA-LUCIA.ipynb",
      "provenance": [],
      "collapsed_sections": []
    },
    "kernelspec": {
      "name": "python3",
      "display_name": "Python 3"
    },
    "language_info": {
      "name": "python"
    }
  },
  "cells": [
    {
      "cell_type": "code",
      "execution_count": 21,
      "metadata": {
        "colab": {
          "base_uri": "https://localhost:8080/"
        },
        "id": "VRkyLL9whzPo",
        "outputId": "1c857f6d-0158-4647-d8a3-476139c6aeaf"
      },
      "outputs": [
        {
          "output_type": "stream",
          "name": "stdout",
          "text": [
            "Looking in indexes: https://pypi.org/simple, https://us-python.pkg.dev/colab-wheels/public/simple/\n",
            "Requirement already satisfied: beautifulsoup4 in /usr/local/lib/python3.7/dist-packages (4.6.3)\n",
            "Looking in indexes: https://pypi.org/simple, https://us-python.pkg.dev/colab-wheels/public/simple/\n",
            "Requirement already satisfied: requests in /usr/local/lib/python3.7/dist-packages (2.23.0)\n",
            "Requirement already satisfied: idna<3,>=2.5 in /usr/local/lib/python3.7/dist-packages (from requests) (2.10)\n",
            "Requirement already satisfied: urllib3!=1.25.0,!=1.25.1,<1.26,>=1.21.1 in /usr/local/lib/python3.7/dist-packages (from requests) (1.24.3)\n",
            "Requirement already satisfied: certifi>=2017.4.17 in /usr/local/lib/python3.7/dist-packages (from requests) (2022.6.15)\n",
            "Requirement already satisfied: chardet<4,>=3.0.2 in /usr/local/lib/python3.7/dist-packages (from requests) (3.0.4)\n"
          ]
        }
      ],
      "source": [
        "!pip install beautifulsoup4\n",
        "!pip install requests"
      ]
    },
    {
      "cell_type": "code",
      "source": [
        "from bs4 import BeautifulSoup\n",
        "import requests\n",
        "import pandas as pd\n",
        "import re\n",
        "from datetime import datetime"
      ],
      "metadata": {
        "id": "Yx67f412h9UE"
      },
      "execution_count": 22,
      "outputs": []
    },
    {
      "cell_type": "code",
      "source": [
        "# extracción de datos\n",
        "url = \"https://www.estesparkweather.net/archive_reports.php?date=202005\" # direccion de la extracción de datos\n",
        "response = requests.get(url) # solicitud para datos\n",
        "print(response) # imprimir respuesta\n",
        "print(response.content[:200]) # vista de los primeros 200 caracteres de datos\n",
        "sopa =  BeautifulSoup(response.content,'html.parser') # analizar el contenido de la pagina\n",
        "tabla = sopa.find_all('table') # encontrar los datos en la etiqueta html table"
      ],
      "metadata": {
        "colab": {
          "base_uri": "https://localhost:8080/"
        },
        "id": "I5ca_rGbiACJ",
        "outputId": "93dcc2f8-5130-4e64-cf79-71b2ad323cef"
      },
      "execution_count": 23,
      "outputs": [
        {
          "output_type": "stream",
          "name": "stdout",
          "text": [
            "<Response [200]>\n",
            "b'<!DOCTYPE html PUBLIC \"-//W3C//DTD XHTML 1.0 Strict//EN\" \"http://www.w3.org/TR/xhtml1/DTD/xhtml1-strict.dtd\">\\n<html xmlns=\"http://www.w3.org/1999/xhtml\">\\n<!-- DW6 -->\\n<head>\\n<!-- Copyright 2005 Macrom'\n"
          ]
        }
      ]
    },
    {
      "cell_type": "code",
      "source": [
        "sopa =  BeautifulSoup(response.content,'html.parser') # analizar el contenido de la pagina\n",
        "tabla = sopa.find_all('table') # encontrar los datos en la etiqueta html table\n",
        "print(tabla[0]) # imprimir la primera parte de datos puesto que se comienza en el cero"
      ],
      "metadata": {
        "colab": {
          "base_uri": "https://localhost:8080/"
        },
        "id": "6eZ9TqTbiAr8",
        "outputId": "fb38000b-c922-4e31-e8b7-e94b7dcaba40"
      },
      "execution_count": 24,
      "outputs": [
        {
          "output_type": "stream",
          "name": "stdout",
          "text": [
            "<table border=\"0\" cellpadding=\"3\" cellspacing=\"0\">\n",
            "<tr class=\"table-top\">\n",
            "<td colspan=\"2\">May 1 Average and Extremes</td>\n",
            "</tr>\n",
            "<tr class=\"column-light\">\n",
            "<td>Average temperature</td><td> 57.8°F</td>\n",
            "</tr>\n",
            "<tr class=\"column-dark\">\n",
            "<td>Average humidity</td><td> 45%</td>\n",
            "</tr>\n",
            "<tr class=\"column-light\">\n",
            "<td>Average dewpoint</td><td> 33.9°F</td>\n",
            "</tr>\n",
            "<tr class=\"column-dark\">\n",
            "<td>Average barometer</td><td> 29.6 in.</td>\n",
            "</tr>\n",
            "<tr class=\"column-light\">\n",
            "<td>Average windspeed</td><td> 5.2 mph</td>\n",
            "</tr>\n",
            "<tr class=\"column-dark\">\n",
            "<td>Average gustspeed</td><td> 8.0 mph</td>\n",
            "</tr>\n",
            "<tr class=\"column-light\">\n",
            "<td>Average direction</td><td> 238° (WSW)</td>\n",
            "</tr>\n",
            "<tr class=\"column-dark\">\n",
            "<td>Rainfall for month</td><td> 0.00 in.</td>\n",
            "</tr>\n",
            "<tr class=\"column-light\">\n",
            "<td>Rainfall for year</td><td> 2.40 in.</td>\n",
            "</tr>\n",
            "<tr class=\"column-dark\">\n",
            "<td>Maximum rain per minute</td><td> 0.00 in. on day 01 at time 00:00</td>\n",
            "</tr>\n",
            "<tr class=\"column-light\">\n",
            "<td>Maximum temperature</td><td> 71.8°F on day 01 at time 14:41</td>\n",
            "</tr>\n",
            "<tr class=\"column-dark\">\n",
            "<td>Minimum temperature</td><td> 41.5°F on day 01 at time 06:24</td>\n",
            "</tr>\n",
            "<tr class=\"column-light\">\n",
            "<td>Maximum humidity</td><td> 83% on day 01 at time 00:00</td>\n",
            "</tr>\n",
            "<tr class=\"column-dark\">\n",
            "<td>Minimum humidity</td><td> 19% on day 01 at time 14:07</td>\n",
            "</tr>\n",
            "<tr class=\"column-light\">\n",
            "<td>Maximum pressure</td><td> 29.724 in. on day 01 at time 22:22</td>\n",
            "</tr>\n",
            "<tr class=\"column-dark\">\n",
            "<td>Minimum pressure</td><td> 29.515 in. on day 01 at time 16:13</td>\n",
            "</tr>\n",
            "<tr class=\"column-light\">\n",
            "<td>Maximum windspeed</td><td> 18.4 mph on day 01 at time 21:02</td>\n",
            "</tr>\n",
            "<tr class=\"column-dark\">\n",
            "<td>Maximum gust speed</td><td> 29.9 mph  from 063 °(ENE) on day 01 at time 20:57</td>\n",
            "</tr>\n",
            "<tr class=\"column-light\">\n",
            "<td>Maximum heat index</td><td> 76.6°F on day 01 at time 15:57</td>\n",
            "</tr>\n",
            "</table>\n"
          ]
        }
      ]
    },
    {
      "cell_type": "code",
      "source": [
        "tabla[0].text # obtener los datos de la tabla en formato de texto"
      ],
      "metadata": {
        "colab": {
          "base_uri": "https://localhost:8080/",
          "height": 87
        },
        "id": "sH-FWgUIiCvI",
        "outputId": "35645f81-2894-42f3-ee09-cb2a689257e3"
      },
      "execution_count": 25,
      "outputs": [
        {
          "output_type": "execute_result",
          "data": {
            "text/plain": [
              "'\\n\\nMay 1 Average and Extremes\\n\\n\\nAverage temperature 57.8°F\\n\\n\\nAverage humidity 45%\\n\\n\\nAverage dewpoint 33.9°F\\n\\n\\nAverage barometer 29.6 in.\\n\\n\\nAverage windspeed 5.2 mph\\n\\n\\nAverage gustspeed 8.0 mph\\n\\n\\nAverage direction 238° (WSW)\\n\\n\\nRainfall for month 0.00 in.\\n\\n\\nRainfall for year 2.40 in.\\n\\n\\nMaximum rain per minute 0.00 in. on day 01 at time 00:00\\n\\n\\nMaximum temperature 71.8°F on day 01 at time 14:41\\n\\n\\nMinimum temperature 41.5°F on day 01 at time 06:24\\n\\n\\nMaximum humidity 83% on day 01 at time 00:00\\n\\n\\nMinimum humidity 19% on day 01 at time 14:07\\n\\n\\nMaximum pressure 29.724 in. on day 01 at time 22:22\\n\\n\\nMinimum pressure 29.515 in. on day 01 at time 16:13\\n\\n\\nMaximum windspeed 18.4 mph on day 01 at time 21:02\\n\\n\\nMaximum gust speed 29.9 mph  from 063 °(ENE) on day 01 at time 20:57\\n\\n\\nMaximum heat index 76.6°F on day 01 at time 15:57\\n\\n'"
            ],
            "application/vnd.google.colaboratory.intrinsic+json": {
              "type": "string"
            }
          },
          "metadata": {},
          "execution_count": 25
        }
      ]
    },
    {
      "cell_type": "code",
      "source": [
        "list(filter(None, tabla[0].text.splitlines())) # filtrar y quitar los campos vacíos de la lista"
      ],
      "metadata": {
        "colab": {
          "base_uri": "https://localhost:8080/"
        },
        "id": "dDBtQWiqiFGc",
        "outputId": "9be4c478-2ec7-4f1f-b975-a1dfbf62a771"
      },
      "execution_count": 26,
      "outputs": [
        {
          "output_type": "execute_result",
          "data": {
            "text/plain": [
              "['May 1 Average and Extremes',\n",
              " 'Average temperature 57.8°F',\n",
              " 'Average humidity 45%',\n",
              " 'Average dewpoint 33.9°F',\n",
              " 'Average barometer 29.6 in.',\n",
              " 'Average windspeed 5.2 mph',\n",
              " 'Average gustspeed 8.0 mph',\n",
              " 'Average direction 238° (WSW)',\n",
              " 'Rainfall for month 0.00 in.',\n",
              " 'Rainfall for year 2.40 in.',\n",
              " 'Maximum rain per minute 0.00 in. on day 01 at time 00:00',\n",
              " 'Maximum temperature 71.8°F on day 01 at time 14:41',\n",
              " 'Minimum temperature 41.5°F on day 01 at time 06:24',\n",
              " 'Maximum humidity 83% on day 01 at time 00:00',\n",
              " 'Minimum humidity 19% on day 01 at time 14:07',\n",
              " 'Maximum pressure 29.724 in. on day 01 at time 22:22',\n",
              " 'Minimum pressure 29.515 in. on day 01 at time 16:13',\n",
              " 'Maximum windspeed 18.4 mph on day 01 at time 21:02',\n",
              " 'Maximum gust speed 29.9 mph  from 063 °(ENE) on day 01 at time 20:57',\n",
              " 'Maximum heat index 76.6°F on day 01 at time 15:57']"
            ]
          },
          "metadata": {},
          "execution_count": 26
        }
      ]
    },
    {
      "cell_type": "code",
      "source": [
        "outer_data_list = [] # separar los datos y guardar como lista\n",
        "for data in tabla[:31]: # recorrer datos de cada dia\n",
        "    value = list(filter(None, data.text.splitlines())) # obtener valores filtrados sin cadenas vacias    \n",
        "    outer_data_list.append(value) # anexar dichos valores a la lista\n",
        "outer_data_list[0] # observar los datos de la lista"
      ],
      "metadata": {
        "colab": {
          "base_uri": "https://localhost:8080/"
        },
        "id": "EAWQyvW0iKAr",
        "outputId": "660421d2-310f-4792-e05b-b4c01512d550"
      },
      "execution_count": 27,
      "outputs": [
        {
          "output_type": "execute_result",
          "data": {
            "text/plain": [
              "['May 1 Average and Extremes',\n",
              " 'Average temperature 57.8°F',\n",
              " 'Average humidity 45%',\n",
              " 'Average dewpoint 33.9°F',\n",
              " 'Average barometer 29.6 in.',\n",
              " 'Average windspeed 5.2 mph',\n",
              " 'Average gustspeed 8.0 mph',\n",
              " 'Average direction 238° (WSW)',\n",
              " 'Rainfall for month 0.00 in.',\n",
              " 'Rainfall for year 2.40 in.',\n",
              " 'Maximum rain per minute 0.00 in. on day 01 at time 00:00',\n",
              " 'Maximum temperature 71.8°F on day 01 at time 14:41',\n",
              " 'Minimum temperature 41.5°F on day 01 at time 06:24',\n",
              " 'Maximum humidity 83% on day 01 at time 00:00',\n",
              " 'Minimum humidity 19% on day 01 at time 14:07',\n",
              " 'Maximum pressure 29.724 in. on day 01 at time 22:22',\n",
              " 'Minimum pressure 29.515 in. on day 01 at time 16:13',\n",
              " 'Maximum windspeed 18.4 mph on day 01 at time 21:02',\n",
              " 'Maximum gust speed 29.9 mph  from 063 °(ENE) on day 01 at time 20:57',\n",
              " 'Maximum heat index 76.6°F on day 01 at time 15:57']"
            ]
          },
          "metadata": {},
          "execution_count": 27
        }
      ]
    },
    {
      "cell_type": "code",
      "source": [
        "day_data_list = [] # creación de lista para contener los datos \n",
        "for i in outer_data_list: # bucle sobre cada dia\n",
        "    numeric_values = [] # enlistar para sostener valores numericos\n",
        "    for day_data in i[1:]: #bucle a través de los datos de cada dia\n",
        "        d = '.'.join(re.findall(\"\\d+\",str(day_data.split()[:5]))) # analizar el texto para obtener digitos\n",
        "        numeric_values.append(d) # anexar a la lista de los valores numericos de la lista\n",
        "    day_data_list.append(numeric_values) #anexar a la data\n",
        "# nombrar las columnas de acurdo al sitio web\n",
        "columns = ['average_temperature', 'average_humidity', 'average_dewpoint', 'average_barometer', 'average_windspeed', 'average_gustspeed', 'average_direction', 'rainfall_for_month', 'rainfall_for_year', 'maximum_rain_per_minute', 'maximum_temperature', 'minimum_temperature', 'maximum_humidity', \n",
        "           'minimum_humidity', 'maximum_pressure', 'minimum_pressure', 'maximum_windspeed', 'maximum_gust_speed', 'maximum_heat_index']\n",
        "# Create a pandas dataframe with the data\n",
        "clima = pd.DataFrame(day_data_list, columns = columns) # creación del dataframe de pandas con los datos"
      ],
      "metadata": {
        "id": "SXDRoQyYiLBe"
      },
      "execution_count": 28,
      "outputs": []
    },
    {
      "cell_type": "code",
      "source": [
        "clima.head() # comprobar que los datos se encuentren ordenados"
      ],
      "metadata": {
        "colab": {
          "base_uri": "https://localhost:8080/",
          "height": 270
        },
        "id": "JlYO9TPGiNUQ",
        "outputId": "eb3b05f9-e4e5-49c9-f8a6-833959714f72"
      },
      "execution_count": 29,
      "outputs": [
        {
          "output_type": "execute_result",
          "data": {
            "text/plain": [
              "  average_temperature average_humidity average_dewpoint average_barometer  \\\n",
              "0                57.8               45             33.9              29.6   \n",
              "1                47.1               83             42.0              29.7   \n",
              "2                51.6               59             36.4              29.7   \n",
              "3                45.1               58             28.9              29.8   \n",
              "4                48.7               24             12.2              30.0   \n",
              "\n",
              "  average_windspeed average_gustspeed average_direction rainfall_for_month  \\\n",
              "0               5.2               8.0               238               0.00   \n",
              "1               3.1               5.0                16               0.30   \n",
              "2               4.9               7.5               244               0.33   \n",
              "3               7.6              11.8               248               0.37   \n",
              "4               6.3               9.7               241               0.37   \n",
              "\n",
              "  rainfall_for_year maximum_rain_per_minute maximum_temperature  \\\n",
              "0              2.40                    0.00                71.8   \n",
              "1              2.70                    0.02                57.3   \n",
              "2              2.73                    0.01                65.4   \n",
              "3              2.77                    0.01                52.2   \n",
              "4              2.77                    0.00                62.3   \n",
              "\n",
              "  minimum_temperature maximum_humidity minimum_humidity maximum_pressure  \\\n",
              "0                41.5               83               19           29.724   \n",
              "1                39.9               95               60           29.881   \n",
              "2                36.1               93               29           29.876   \n",
              "3                38.5               94               28           30.024   \n",
              "4                37.9               50               12           30.128   \n",
              "\n",
              "  minimum_pressure maximum_windspeed maximum_gust_speed maximum_heat_index  \n",
              "0           29.515              18.4               29.9               76.6  \n",
              "1           29.666              15.0               19.6               57.3  \n",
              "2           29.620              19.6               26.5               65.4  \n",
              "3           29.604              25.3               36.8               52.2  \n",
              "4           29.942              18.4               26.5               62.3  "
            ],
            "text/html": [
              "\n",
              "  <div id=\"df-9a8dab06-702f-435c-9d8b-c6f13837aade\">\n",
              "    <div class=\"colab-df-container\">\n",
              "      <div>\n",
              "<style scoped>\n",
              "    .dataframe tbody tr th:only-of-type {\n",
              "        vertical-align: middle;\n",
              "    }\n",
              "\n",
              "    .dataframe tbody tr th {\n",
              "        vertical-align: top;\n",
              "    }\n",
              "\n",
              "    .dataframe thead th {\n",
              "        text-align: right;\n",
              "    }\n",
              "</style>\n",
              "<table border=\"1\" class=\"dataframe\">\n",
              "  <thead>\n",
              "    <tr style=\"text-align: right;\">\n",
              "      <th></th>\n",
              "      <th>average_temperature</th>\n",
              "      <th>average_humidity</th>\n",
              "      <th>average_dewpoint</th>\n",
              "      <th>average_barometer</th>\n",
              "      <th>average_windspeed</th>\n",
              "      <th>average_gustspeed</th>\n",
              "      <th>average_direction</th>\n",
              "      <th>rainfall_for_month</th>\n",
              "      <th>rainfall_for_year</th>\n",
              "      <th>maximum_rain_per_minute</th>\n",
              "      <th>maximum_temperature</th>\n",
              "      <th>minimum_temperature</th>\n",
              "      <th>maximum_humidity</th>\n",
              "      <th>minimum_humidity</th>\n",
              "      <th>maximum_pressure</th>\n",
              "      <th>minimum_pressure</th>\n",
              "      <th>maximum_windspeed</th>\n",
              "      <th>maximum_gust_speed</th>\n",
              "      <th>maximum_heat_index</th>\n",
              "    </tr>\n",
              "  </thead>\n",
              "  <tbody>\n",
              "    <tr>\n",
              "      <th>0</th>\n",
              "      <td>57.8</td>\n",
              "      <td>45</td>\n",
              "      <td>33.9</td>\n",
              "      <td>29.6</td>\n",
              "      <td>5.2</td>\n",
              "      <td>8.0</td>\n",
              "      <td>238</td>\n",
              "      <td>0.00</td>\n",
              "      <td>2.40</td>\n",
              "      <td>0.00</td>\n",
              "      <td>71.8</td>\n",
              "      <td>41.5</td>\n",
              "      <td>83</td>\n",
              "      <td>19</td>\n",
              "      <td>29.724</td>\n",
              "      <td>29.515</td>\n",
              "      <td>18.4</td>\n",
              "      <td>29.9</td>\n",
              "      <td>76.6</td>\n",
              "    </tr>\n",
              "    <tr>\n",
              "      <th>1</th>\n",
              "      <td>47.1</td>\n",
              "      <td>83</td>\n",
              "      <td>42.0</td>\n",
              "      <td>29.7</td>\n",
              "      <td>3.1</td>\n",
              "      <td>5.0</td>\n",
              "      <td>16</td>\n",
              "      <td>0.30</td>\n",
              "      <td>2.70</td>\n",
              "      <td>0.02</td>\n",
              "      <td>57.3</td>\n",
              "      <td>39.9</td>\n",
              "      <td>95</td>\n",
              "      <td>60</td>\n",
              "      <td>29.881</td>\n",
              "      <td>29.666</td>\n",
              "      <td>15.0</td>\n",
              "      <td>19.6</td>\n",
              "      <td>57.3</td>\n",
              "    </tr>\n",
              "    <tr>\n",
              "      <th>2</th>\n",
              "      <td>51.6</td>\n",
              "      <td>59</td>\n",
              "      <td>36.4</td>\n",
              "      <td>29.7</td>\n",
              "      <td>4.9</td>\n",
              "      <td>7.5</td>\n",
              "      <td>244</td>\n",
              "      <td>0.33</td>\n",
              "      <td>2.73</td>\n",
              "      <td>0.01</td>\n",
              "      <td>65.4</td>\n",
              "      <td>36.1</td>\n",
              "      <td>93</td>\n",
              "      <td>29</td>\n",
              "      <td>29.876</td>\n",
              "      <td>29.620</td>\n",
              "      <td>19.6</td>\n",
              "      <td>26.5</td>\n",
              "      <td>65.4</td>\n",
              "    </tr>\n",
              "    <tr>\n",
              "      <th>3</th>\n",
              "      <td>45.1</td>\n",
              "      <td>58</td>\n",
              "      <td>28.9</td>\n",
              "      <td>29.8</td>\n",
              "      <td>7.6</td>\n",
              "      <td>11.8</td>\n",
              "      <td>248</td>\n",
              "      <td>0.37</td>\n",
              "      <td>2.77</td>\n",
              "      <td>0.01</td>\n",
              "      <td>52.2</td>\n",
              "      <td>38.5</td>\n",
              "      <td>94</td>\n",
              "      <td>28</td>\n",
              "      <td>30.024</td>\n",
              "      <td>29.604</td>\n",
              "      <td>25.3</td>\n",
              "      <td>36.8</td>\n",
              "      <td>52.2</td>\n",
              "    </tr>\n",
              "    <tr>\n",
              "      <th>4</th>\n",
              "      <td>48.7</td>\n",
              "      <td>24</td>\n",
              "      <td>12.2</td>\n",
              "      <td>30.0</td>\n",
              "      <td>6.3</td>\n",
              "      <td>9.7</td>\n",
              "      <td>241</td>\n",
              "      <td>0.37</td>\n",
              "      <td>2.77</td>\n",
              "      <td>0.00</td>\n",
              "      <td>62.3</td>\n",
              "      <td>37.9</td>\n",
              "      <td>50</td>\n",
              "      <td>12</td>\n",
              "      <td>30.128</td>\n",
              "      <td>29.942</td>\n",
              "      <td>18.4</td>\n",
              "      <td>26.5</td>\n",
              "      <td>62.3</td>\n",
              "    </tr>\n",
              "  </tbody>\n",
              "</table>\n",
              "</div>\n",
              "      <button class=\"colab-df-convert\" onclick=\"convertToInteractive('df-9a8dab06-702f-435c-9d8b-c6f13837aade')\"\n",
              "              title=\"Convert this dataframe to an interactive table.\"\n",
              "              style=\"display:none;\">\n",
              "        \n",
              "  <svg xmlns=\"http://www.w3.org/2000/svg\" height=\"24px\"viewBox=\"0 0 24 24\"\n",
              "       width=\"24px\">\n",
              "    <path d=\"M0 0h24v24H0V0z\" fill=\"none\"/>\n",
              "    <path d=\"M18.56 5.44l.94 2.06.94-2.06 2.06-.94-2.06-.94-.94-2.06-.94 2.06-2.06.94zm-11 1L8.5 8.5l.94-2.06 2.06-.94-2.06-.94L8.5 2.5l-.94 2.06-2.06.94zm10 10l.94 2.06.94-2.06 2.06-.94-2.06-.94-.94-2.06-.94 2.06-2.06.94z\"/><path d=\"M17.41 7.96l-1.37-1.37c-.4-.4-.92-.59-1.43-.59-.52 0-1.04.2-1.43.59L10.3 9.45l-7.72 7.72c-.78.78-.78 2.05 0 2.83L4 21.41c.39.39.9.59 1.41.59.51 0 1.02-.2 1.41-.59l7.78-7.78 2.81-2.81c.8-.78.8-2.07 0-2.86zM5.41 20L4 18.59l7.72-7.72 1.47 1.35L5.41 20z\"/>\n",
              "  </svg>\n",
              "      </button>\n",
              "      \n",
              "  <style>\n",
              "    .colab-df-container {\n",
              "      display:flex;\n",
              "      flex-wrap:wrap;\n",
              "      gap: 12px;\n",
              "    }\n",
              "\n",
              "    .colab-df-convert {\n",
              "      background-color: #E8F0FE;\n",
              "      border: none;\n",
              "      border-radius: 50%;\n",
              "      cursor: pointer;\n",
              "      display: none;\n",
              "      fill: #1967D2;\n",
              "      height: 32px;\n",
              "      padding: 0 0 0 0;\n",
              "      width: 32px;\n",
              "    }\n",
              "\n",
              "    .colab-df-convert:hover {\n",
              "      background-color: #E2EBFA;\n",
              "      box-shadow: 0px 1px 2px rgba(60, 64, 67, 0.3), 0px 1px 3px 1px rgba(60, 64, 67, 0.15);\n",
              "      fill: #174EA6;\n",
              "    }\n",
              "\n",
              "    [theme=dark] .colab-df-convert {\n",
              "      background-color: #3B4455;\n",
              "      fill: #D2E3FC;\n",
              "    }\n",
              "\n",
              "    [theme=dark] .colab-df-convert:hover {\n",
              "      background-color: #434B5C;\n",
              "      box-shadow: 0px 1px 3px 1px rgba(0, 0, 0, 0.15);\n",
              "      filter: drop-shadow(0px 1px 2px rgba(0, 0, 0, 0.3));\n",
              "      fill: #FFFFFF;\n",
              "    }\n",
              "  </style>\n",
              "\n",
              "      <script>\n",
              "        const buttonEl =\n",
              "          document.querySelector('#df-9a8dab06-702f-435c-9d8b-c6f13837aade button.colab-df-convert');\n",
              "        buttonEl.style.display =\n",
              "          google.colab.kernel.accessAllowed ? 'block' : 'none';\n",
              "\n",
              "        async function convertToInteractive(key) {\n",
              "          const element = document.querySelector('#df-9a8dab06-702f-435c-9d8b-c6f13837aade');\n",
              "          const dataTable =\n",
              "            await google.colab.kernel.invokeFunction('convertToInteractive',\n",
              "                                                     [key], {});\n",
              "          if (!dataTable) return;\n",
              "\n",
              "          const docLinkHtml = 'Like what you see? Visit the ' +\n",
              "            '<a target=\"_blank\" href=https://colab.research.google.com/notebooks/data_table.ipynb>data table notebook</a>'\n",
              "            + ' to learn more about interactive tables.';\n",
              "          element.innerHTML = '';\n",
              "          dataTable['output_type'] = 'display_data';\n",
              "          await google.colab.output.renderOutput(dataTable, element);\n",
              "          const docLink = document.createElement('div');\n",
              "          docLink.innerHTML = docLinkHtml;\n",
              "          element.appendChild(docLink);\n",
              "        }\n",
              "      </script>\n",
              "    </div>\n",
              "  </div>\n",
              "  "
            ]
          },
          "metadata": {},
          "execution_count": 29
        }
      ]
    },
    {
      "cell_type": "code",
      "source": [
        "clima.info()"
      ],
      "metadata": {
        "colab": {
          "base_uri": "https://localhost:8080/"
        },
        "id": "FjRSKhqSiRrl",
        "outputId": "6ea339a4-e413-4bdb-d68d-ee5347bf0d47"
      },
      "execution_count": 30,
      "outputs": [
        {
          "output_type": "stream",
          "name": "stdout",
          "text": [
            "<class 'pandas.core.frame.DataFrame'>\n",
            "RangeIndex: 31 entries, 0 to 30\n",
            "Data columns (total 19 columns):\n",
            " #   Column                   Non-Null Count  Dtype \n",
            "---  ------                   --------------  ----- \n",
            " 0   average_temperature      31 non-null     object\n",
            " 1   average_humidity         31 non-null     object\n",
            " 2   average_dewpoint         31 non-null     object\n",
            " 3   average_barometer        31 non-null     object\n",
            " 4   average_windspeed        31 non-null     object\n",
            " 5   average_gustspeed        31 non-null     object\n",
            " 6   average_direction        31 non-null     object\n",
            " 7   rainfall_for_month       31 non-null     object\n",
            " 8   rainfall_for_year        31 non-null     object\n",
            " 9   maximum_rain_per_minute  31 non-null     object\n",
            " 10  maximum_temperature      31 non-null     object\n",
            " 11  minimum_temperature      31 non-null     object\n",
            " 12  maximum_humidity         31 non-null     object\n",
            " 13  minimum_humidity         31 non-null     object\n",
            " 14  maximum_pressure         31 non-null     object\n",
            " 15  minimum_pressure         31 non-null     object\n",
            " 16  maximum_windspeed        31 non-null     object\n",
            " 17  maximum_gust_speed       31 non-null     object\n",
            " 18  maximum_heat_index       31 non-null     object\n",
            "dtypes: object(19)\n",
            "memory usage: 4.7+ KB\n"
          ]
        }
      ]
    },
    {
      "cell_type": "code",
      "source": [
        "clima = clima.apply(pd.to_numeric) # convertir todas las columnas a datos numericos"
      ],
      "metadata": {
        "id": "8-tlYuFWiTz_"
      },
      "execution_count": 31,
      "outputs": []
    },
    {
      "cell_type": "code",
      "source": [
        "clima.info() # confirmar"
      ],
      "metadata": {
        "colab": {
          "base_uri": "https://localhost:8080/"
        },
        "id": "_rqF791giV2I",
        "outputId": "d48ec25d-a289-494f-8fb1-47f7a3b56cc0"
      },
      "execution_count": 32,
      "outputs": [
        {
          "output_type": "stream",
          "name": "stdout",
          "text": [
            "<class 'pandas.core.frame.DataFrame'>\n",
            "RangeIndex: 31 entries, 0 to 30\n",
            "Data columns (total 19 columns):\n",
            " #   Column                   Non-Null Count  Dtype  \n",
            "---  ------                   --------------  -----  \n",
            " 0   average_temperature      31 non-null     float64\n",
            " 1   average_humidity         31 non-null     int64  \n",
            " 2   average_dewpoint         31 non-null     float64\n",
            " 3   average_barometer        31 non-null     float64\n",
            " 4   average_windspeed        31 non-null     float64\n",
            " 5   average_gustspeed        31 non-null     float64\n",
            " 6   average_direction        31 non-null     int64  \n",
            " 7   rainfall_for_month       31 non-null     float64\n",
            " 8   rainfall_for_year        31 non-null     float64\n",
            " 9   maximum_rain_per_minute  31 non-null     float64\n",
            " 10  maximum_temperature      31 non-null     float64\n",
            " 11  minimum_temperature      31 non-null     float64\n",
            " 12  maximum_humidity         31 non-null     int64  \n",
            " 13  minimum_humidity         31 non-null     int64  \n",
            " 14  maximum_pressure         31 non-null     float64\n",
            " 15  minimum_pressure         31 non-null     float64\n",
            " 16  maximum_windspeed        31 non-null     float64\n",
            " 17  maximum_gust_speed       31 non-null     float64\n",
            " 18  maximum_heat_index       31 non-null     float64\n",
            "dtypes: float64(15), int64(4)\n",
            "memory usage: 4.7 KB\n"
          ]
        }
      ]
    },
    {
      "cell_type": "code",
      "source": [
        "# análisis exploratorio\n",
        "print(\"(Filas =\", clima.shape[0], \"/ Columnas =\", clima.shape[1], \")\") # dimensiones del dataset"
      ],
      "metadata": {
        "colab": {
          "base_uri": "https://localhost:8080/"
        },
        "id": "Z5Y3cfcqiYLd",
        "outputId": "9aea57f5-f4d1-4c31-a122-be80386b03e2"
      },
      "execution_count": 33,
      "outputs": [
        {
          "output_type": "stream",
          "name": "stdout",
          "text": [
            "(Filas = 31 / Columnas = 19 )\n"
          ]
        }
      ]
    },
    {
      "cell_type": "code",
      "source": [
        "clima.mean() # calculo de media"
      ],
      "metadata": {
        "colab": {
          "base_uri": "https://localhost:8080/"
        },
        "id": "DASZp6BwiaeP",
        "outputId": "67d8dcbd-efc3-43ed-a228-ca9549736066"
      },
      "execution_count": 34,
      "outputs": [
        {
          "output_type": "execute_result",
          "data": {
            "text/plain": [
              "average_temperature         50.845161\n",
              "average_humidity            54.161290\n",
              "average_dewpoint            31.393548\n",
              "average_barometer           29.741935\n",
              "average_windspeed            4.490323\n",
              "average_gustspeed            7.112903\n",
              "average_direction          173.161290\n",
              "rainfall_for_month           0.597742\n",
              "rainfall_for_year            2.997742\n",
              "maximum_rain_per_minute      0.004194\n",
              "maximum_temperature         64.393548\n",
              "minimum_temperature         36.070968\n",
              "maximum_humidity            84.774194\n",
              "minimum_humidity            27.193548\n",
              "maximum_pressure            29.866613\n",
              "minimum_pressure            29.652323\n",
              "maximum_windspeed           17.835484\n",
              "maximum_gust_speed          25.587097\n",
              "maximum_heat_index          65.209677\n",
              "dtype: float64"
            ]
          },
          "metadata": {},
          "execution_count": 34
        }
      ]
    },
    {
      "cell_type": "code",
      "source": [
        "clima.max() # valores numericos maximos"
      ],
      "metadata": {
        "colab": {
          "base_uri": "https://localhost:8080/"
        },
        "id": "O2dtO_4ficaS",
        "outputId": "562ea600-816e-46f1-c1a6-adc1bf2d4c87"
      },
      "execution_count": 35,
      "outputs": [
        {
          "output_type": "execute_result",
          "data": {
            "text/plain": [
              "average_temperature         63.100\n",
              "average_humidity            84.000\n",
              "average_dewpoint            44.700\n",
              "average_barometer           30.000\n",
              "average_windspeed           10.100\n",
              "average_gustspeed           15.200\n",
              "average_direction          290.000\n",
              "rainfall_for_month           1.000\n",
              "rainfall_for_year            3.400\n",
              "maximum_rain_per_minute      0.020\n",
              "maximum_temperature         79.300\n",
              "minimum_temperature         49.100\n",
              "maximum_humidity            97.000\n",
              "minimum_humidity            66.000\n",
              "maximum_pressure            30.138\n",
              "minimum_pressure            30.001\n",
              "maximum_windspeed           27.600\n",
              "maximum_gust_speed          36.800\n",
              "maximum_heat_index          78.600\n",
              "dtype: float64"
            ]
          },
          "metadata": {},
          "execution_count": 35
        }
      ]
    },
    {
      "cell_type": "code",
      "source": [
        "clima.min() # valores numericos minimos"
      ],
      "metadata": {
        "colab": {
          "base_uri": "https://localhost:8080/"
        },
        "id": "mzxVAMVYien0",
        "outputId": "d3107d76-7d5f-485f-d010-6df18c81bd3d"
      },
      "execution_count": 19,
      "outputs": [
        {
          "output_type": "execute_result",
          "data": {
            "text/plain": [
              "average_temperature        36.800\n",
              "average_humidity           20.000\n",
              "average_dewpoint           11.600\n",
              "average_barometer          29.300\n",
              "average_windspeed           2.000\n",
              "average_gustspeed           3.600\n",
              "average_direction           1.000\n",
              "rainfall_for_month          0.000\n",
              "rainfall_for_year           2.400\n",
              "maximum_rain_per_minute     0.000\n",
              "maximum_temperature        50.400\n",
              "minimum_temperature        24.500\n",
              "maximum_humidity           44.000\n",
              "minimum_humidity            8.000\n",
              "maximum_pressure           29.483\n",
              "minimum_pressure           29.193\n",
              "maximum_windspeed          10.400\n",
              "maximum_gust_speed         15.000\n",
              "maximum_heat_index         50.400\n",
              "dtype: float64"
            ]
          },
          "metadata": {},
          "execution_count": 19
        }
      ]
    },
    {
      "cell_type": "code",
      "source": [
        "clima.std() # desviacion estandar"
      ],
      "metadata": {
        "colab": {
          "base_uri": "https://localhost:8080/"
        },
        "id": "7j5QS0IJifPJ",
        "outputId": "a09abcd3-e0d0-4c61-a02a-0b5400d6f517"
      },
      "execution_count": 20,
      "outputs": [
        {
          "output_type": "execute_result",
          "data": {
            "text/plain": [
              "average_temperature          7.403370\n",
              "average_humidity            16.850513\n",
              "average_dewpoint             8.829871\n",
              "average_barometer            0.185785\n",
              "average_windspeed            2.074023\n",
              "average_gustspeed            2.888453\n",
              "average_direction          101.907179\n",
              "rainfall_for_month           0.245882\n",
              "rainfall_for_year            0.245882\n",
              "maximum_rain_per_minute      0.005642\n",
              "maximum_temperature          9.022192\n",
              "minimum_temperature          5.996009\n",
              "maximum_humidity            13.435549\n",
              "minimum_humidity            15.721364\n",
              "maximum_pressure             0.183888\n",
              "minimum_pressure             0.192941\n",
              "maximum_windspeed            4.508033\n",
              "maximum_gust_speed           6.436860\n",
              "maximum_heat_index           9.828881\n",
              "dtype: float64"
            ]
          },
          "metadata": {},
          "execution_count": 20
        }
      ]
    }
  ]
}